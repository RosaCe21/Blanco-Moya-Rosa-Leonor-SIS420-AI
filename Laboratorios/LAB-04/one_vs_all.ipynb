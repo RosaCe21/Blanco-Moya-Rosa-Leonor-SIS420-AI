{
 "cells": [
  {
   "cell_type": "markdown",
   "metadata": {},
   "source": [
    "# LAB-04 \n",
    "\n",
    "### Nombre: Blanco Moya Rosa Leonor\n",
    "\n",
    "### Carrera: Ing. de Sistemas"
   ]
  },
  {
   "cell_type": "markdown",
   "metadata": {},
   "source": [
    "# One VS All\n",
    "\n",
    "Link del Dataset: https://data.world/uci/adult\n",
    "\n",
    "Link del Repositorio de GitHub LAB-04: https://github.com/RosaCe21/Blanco-Moya-Rosa-Leonor-SIS420-AI/tree/ad429d2271697102d445377e6dd33c01dc08dedb/Laboratorios/LAB-04"
   ]
  },
  {
   "cell_type": "markdown",
   "metadata": {},
   "source": [
    "# Informacióndel Dataset\n",
    "\n",
    "Especificar cuales son sus  variables de entrada  (X): \n",
    "\n",
    "Variables de entrada son: \n",
    "\n",
    "X1:age: continuous.\n",
    "\n",
    "X2:workclass: Private, Self-emp-not-inc, Self-emp-inc, Federal-gov, Local-gov, State-gov, Without-pay, Never-worked.\n",
    "\n",
    "X3: fnlwgt: continuous.\n",
    "\n",
    "X4: education: Bachelors, Some-college, 11th, HS-grad, Prof-school, Assoc-acdm, Assoc-voc, 9th, 7th-8th, 12th, Masters, 1st-4th, 10th, Doctorate, 5th-6th, Preschool.\n",
    "\n",
    "X5: education-num: continuous.\n",
    "\n",
    "X6: marital-status: Married-civ-spouse, Divorced, Never-married, Separated, Widowed, Married-spouse-absent, Married-AF-spouse.\n",
    "\n",
    "X7: occupation: Tech-support, Craft-repair, Other-service, Sales, Exec-managerial, Prof-specialty, Handlers-cleaners, Machine-op-inspct, Adm-clerical, Farming-fishing, Transport-moving, Priv-house-serv, Protective-serv, Armed-Forces.\n",
    "\n",
    "X8: relationship: Wife, Own-child, Husband, Not-in-family, Other-relative, Unmarried.\n",
    "\n",
    "X9: race: White, Asian-Pac-Islander, Amer-Indian-Eskimo, Other, Black.\n",
    "\n",
    "X10: sex: Female, Male.\n",
    "\n",
    "X11: capital-gain: continuous.\n",
    "\n",
    "X12: capital-loss: continuous.\n",
    "\n",
    "X13: hours-per-week: continuous.\n",
    "\n",
    "X14: native-country: United-States, Cambodia, England, Puerto-Rico, Canada, Germany, Outlying-US(Guam-USVI-etc), India, Japan, Greece, South, China, Cuba, Iran, Honduras, Philippines, Italy, Poland, Jamaica, Vietnam, Mexico, Portugal, Ireland, France, Dominican-Republic, Laos, Ecuador, Taiwan, Haiti, Columbia, Hungary, Guatemala, Nicaragua, Scotland, Thailand, Yugoslavia, El-Salvador, Trinadad&Tobago, Peru, Hong, Holand-Netherlands.\n",
    "\n",
    "X15: class: >50K, <=50K\n",
    "\n",
    "Y Label(Predicha):  Columna X6 \"marital-status\"\n"
   ]
  },
  {
   "cell_type": "code",
   "execution_count": null,
   "metadata": {
    "id": "20Q29kX8SxgJ"
   },
   "outputs": [],
   "source": [
    "import os\n",
    "import numpy as np\n",
    "import pandas as pd\n",
    "from matplotlib import pyplot as plt\n",
    "from scipy import optimize\n",
    "from sklearn.preprocessing import PolynomialFeatures, RobustScaler\n",
    "from sklearn.model_selection import train_test_split\n",
    "\n",
    "%matplotlib inline"
   ]
  },
  {
   "cell_type": "markdown",
   "metadata": {
    "id": "-cnYi8vV6w90"
   },
   "source": [
    "##Cargar el dataset"
   ]
  },
  {
   "cell_type": "code",
   "execution_count": null,
   "metadata": {
    "id": "hhRjL2ptSxgK"
   },
   "outputs": [],
   "source": [
    "data = pd.read_csv('./adult_data.csv')"
   ]
  },
  {
   "cell_type": "markdown",
   "metadata": {
    "id": "YuW8-bCi7DFh"
   },
   "source": [
    "##Procesamiento con Pandas"
   ]
  },
  {
   "cell_type": "code",
   "execution_count": null,
   "metadata": {
    "id": "CG0WHz617ACr"
   },
   "outputs": [],
   "source": [
    "X = data.iloc[:, :53].values\n",
    "y = data.iloc[:, 54].values\n",
    "\n",
    "y[y == 7] = 0"
   ]
  },
  {
   "cell_type": "code",
   "execution_count": null,
   "metadata": {
    "colab": {
     "base_uri": "https://localhost:8080/"
    },
    "id": "aw2yVc8ESxgL",
    "outputId": "470651ae-ba3d-4de1-ea08-74ac8f1b426b"
   },
   "outputs": [
    {
     "name": "stdout",
     "output_type": "stream",
     "text": [
      "[2596   51    3  258    0  510  221  232  148 6279    1    0    0    0\n",
      "    0    0    0    0    0    0    0    0    0    0    0    0    0    0\n",
      "    0    0    0    0    0    0    0    0    0    0    0    0    0    0\n",
      "    1    0    0    0    0    0    0    0    0    0    0]\n",
      "[5 5 2 ... 3 3 3]\n"
     ]
    }
   ],
   "source": [
    "print(X[0,:])\n",
    "print(y)"
   ]
  },
  {
   "cell_type": "code",
   "execution_count": null,
   "metadata": {
    "colab": {
     "base_uri": "https://localhost:8080/"
    },
    "id": "sQI4wojL8e25",
    "outputId": "4b133a20-1ea8-40d2-f9a7-d7ba5e54d306"
   },
   "outputs": [
    {
     "data": {
      "text/plain": [
       "(581012, 53)"
      ]
     },
     "execution_count": 63,
     "metadata": {},
     "output_type": "execute_result"
    }
   ],
   "source": [
    "X.shape"
   ]
  },
  {
   "cell_type": "markdown",
   "metadata": {
    "id": "E6c28rpI7nzF"
   },
   "source": [
    "##Dividir el dataset en conjunto de entrenamiento (80%) y de prueba (20%)"
   ]
  },
  {
   "cell_type": "code",
   "execution_count": null,
   "metadata": {
    "id": "z97VcBfQ75_2"
   },
   "outputs": [],
   "source": [
    "X_train, X_test, y_train, y_test = train_test_split(X, y, test_size=0.2, random_state=0)"
   ]
  },
  {
   "cell_type": "code",
   "execution_count": null,
   "metadata": {
    "colab": {
     "base_uri": "https://localhost:8080/"
    },
    "id": "9NreRGfw8Fe_",
    "outputId": "e3d3ae82-2b68-46e9-8d80-023ead59bc69"
   },
   "outputs": [
    {
     "data": {
      "text/plain": [
       "((464809, 53), (116203, 53))"
      ]
     },
     "execution_count": 65,
     "metadata": {},
     "output_type": "execute_result"
    }
   ],
   "source": [
    "X_train.shape, X_test.shape"
   ]
  },
  {
   "cell_type": "markdown",
   "metadata": {
    "id": "JJetxatA8qQ_"
   },
   "source": [
    "##Normalizacion de caracteristicas"
   ]
  },
  {
   "cell_type": "code",
   "execution_count": null,
   "metadata": {
    "id": "HWF5C5Jt8wNb"
   },
   "outputs": [],
   "source": [
    "def  featureNormalize(X):\n",
    "    X_norm = X.copy()\n",
    "    mu = np.zeros(X.shape[1])\n",
    "    sigma = np.zeros(X.shape[1])\n",
    "\n",
    "    mu = np.mean(X, axis = 0)\n",
    "    sigma = np.std(X, axis = 0)\n",
    "    X_norm = (X - mu) / sigma\n",
    "\n",
    "    return X_norm, mu, sigma"
   ]
  },
  {
   "cell_type": "markdown",
   "metadata": {
    "id": "xago3Nmv9VIf"
   },
   "source": [
    "##Normalizar conjunto de prueba con los mismos parámetros"
   ]
  },
  {
   "cell_type": "code",
   "execution_count": null,
   "metadata": {
    "id": "f4W6d-ya1ABV"
   },
   "outputs": [],
   "source": [
    "X_train_norm, mu, sigma = featureNormalize(X_train)\n",
    "X_test_norm = (X_test - mu) / sigma"
   ]
  },
  {
   "cell_type": "code",
   "execution_count": null,
   "metadata": {
    "colab": {
     "base_uri": "https://localhost:8080/"
    },
    "id": "_lk8TeZPt5_S",
    "outputId": "0df24955-1c5b-4d76-b1b3-76d3118a0311"
   },
   "outputs": [
    {
     "name": "stdout",
     "output_type": "stream",
     "text": [
      "[-1.84064495e+00 -1.35478696e+00  1.20680895e-01  9.37629885e-01\n",
      "  3.51119576e+00 -8.54025270e-01 -4.92531212e-01 -6.73895992e-01\n",
      "  1.17415734e-01 -7.42635855e-01 -9.03139057e-01 -2.33007037e-01\n",
      " -8.78410675e-01  3.83299804e+00 -7.25093310e-02 -1.14462336e-01\n",
      " -9.15336200e-02 -1.47513892e-01 -5.22188841e-02  9.34791597e+00\n",
      " -1.36824229e-02 -1.73576996e-02 -4.47270954e-02 -2.44228014e-01\n",
      " -1.47825727e-01 -2.33432647e-01 -1.75568599e-01 -3.18488196e-02\n",
      " -2.07433391e-03 -7.05186231e-02 -7.68640401e-02 -5.68807062e-02\n",
      " -8.33257507e-02 -1.26746963e-01 -3.81072657e-02 -2.46867855e-01\n",
      " -3.32492447e-01 -1.94500673e-01 -2.89413872e-02 -6.67532668e-02\n",
      " -4.33539565e-02 -4.06820129e-02 -4.97811305e-01 -2.33647781e-01\n",
      " -2.14750717e-01 -3.15084806e-01 -2.90670992e-01 -5.31428638e-02\n",
      " -5.77497310e-02 -1.42977903e-02 -2.27763368e-02 -1.66117671e-01\n",
      " -1.55152451e-01]\n",
      "[-6.87092615e-01 -8.00692756e-01  3.87791844e-01 -2.80035178e-01\n",
      " -4.87901176e-01 -7.43738182e-01  8.16315395e-01 -9.77407688e-01\n",
      " -1.21554966e+00  2.04698892e-01 -9.03139057e-01 -2.33007037e-01\n",
      "  1.13841968e+00 -2.60892385e-01 -7.25093310e-02 -1.14462336e-01\n",
      " -9.15336200e-02 -1.47513892e-01 -5.22188841e-02 -1.06975716e-01\n",
      " -1.36824229e-02 -1.73576996e-02 -4.47270954e-02 -2.44228014e-01\n",
      " -1.47825727e-01 -2.33432647e-01 -1.75568599e-01 -3.18488196e-02\n",
      " -2.07433391e-03 -7.05186231e-02 -7.68640401e-02 -5.68807062e-02\n",
      " -8.33257507e-02 -1.26746963e-01 -3.81072657e-02 -2.46867855e-01\n",
      " -3.32492447e-01 -1.94500673e-01 -2.89413872e-02 -6.67532668e-02\n",
      " -4.33539565e-02 -4.06820129e-02 -4.97811305e-01 -2.33647781e-01\n",
      "  4.65656186e+00 -3.15084806e-01 -2.90670992e-01 -5.31428638e-02\n",
      " -5.77497310e-02 -1.42977903e-02 -2.27763368e-02 -1.66117671e-01\n",
      " -1.55152451e-01]\n",
      "[3 1 2 ... 2 1 2]\n"
     ]
    }
   ],
   "source": [
    "print(X_train_norm[0,:])\n",
    "print(X_test_norm[0,:])\n",
    "print(y_train)"
   ]
  },
  {
   "cell_type": "markdown",
   "metadata": {
    "id": "E2SjKVteA_5x"
   },
   "source": [
    "## Función Sigmoide"
   ]
  },
  {
   "cell_type": "code",
   "execution_count": null,
   "metadata": {
    "id": "0sB9Kyi8SxgN"
   },
   "outputs": [],
   "source": [
    "def sigmoid(z):\n",
    "    return 1.0 / (1.0 + np.exp(-z))"
   ]
  },
  {
   "cell_type": "markdown",
   "metadata": {
    "id": "p9jJmiT_BZ1I"
   },
   "source": [
    "##Función de Costo regularizada para la regresión logistica"
   ]
  },
  {
   "cell_type": "code",
   "execution_count": null,
   "metadata": {
    "id": "w5S0OOswSxgN"
   },
   "outputs": [],
   "source": [
    "def lrCostFunction(theta, X, y, lambda_):\n",
    "    # Inicializa algunos valores utiles\n",
    "    m = y.size\n",
    "\n",
    "    # convierte las etiquetas a valores enteros si son boleanos\n",
    "    if y.dtype == bool:\n",
    "        y = y.astype(int)   # lo convierte a entero\n",
    "\n",
    "    J = 0\n",
    "    grad = np.zeros(theta.shape)  # creando los gradientes\n",
    "\n",
    "    h = sigmoid(X.dot(theta.T))   # multiplica X por la transpuesta de theta\n",
    "\n",
    "    temp = theta.copy()\n",
    "    temp[0] = 0     # especifica que el primer elemento sea 0\n",
    "    J = (1 / m) * np.sum(-y.dot(np.log(h)) - (1 - y).dot(np.log(1 - h))) + (lambda_ / (2 * m)) * np.sum(np.square(temp))  # h= y predicha\n",
    "\n",
    "    grad = (1 / m) * (h - y).dot(X)\n",
    "    grad = grad + (lambda_ / m) * temp\n",
    "\n",
    "    return J, grad"
   ]
  },
  {
   "cell_type": "markdown",
   "metadata": {
    "id": "zWy5r6XnDIn5"
   },
   "source": [
    "##Entrenamiento del modelo One-vs-All"
   ]
  },
  {
   "cell_type": "code",
   "execution_count": null,
   "metadata": {
    "id": "V0rOw5qhSxgN"
   },
   "outputs": [],
   "source": [
    "def oneVsAll(X, y, num_labels, lambda_):\n",
    "    # algunas variables utiles\n",
    "    m, n = X.shape   # verifica cuantas filas tiene\n",
    "    all_theta = np.zeros((num_labels, n + 1))   # crea una matriz de ceros\n",
    "    X = np.concatenate([np.ones((m, 1)), X], axis=1)    # Agrega unos a la matriz X\n",
    "\n",
    "    for c in np.arange(num_labels):\n",
    "        initial_theta = np.zeros(n + 1) # inicia fila de ceros pero con n+1\n",
    "        options = {'maxiter': 150}  # utiliza 150 iteraciones\n",
    "        res = optimize.minimize(lrCostFunction,\n",
    "                                initial_theta,\n",
    "                                (X, (y == c), lambda_),\n",
    "                                jac=True,\n",
    "                                method='TNC',  # se puede utilizar diferentes metodos de optimización para converger mejor los datos\n",
    "                                options=options)\n",
    "\n",
    "        all_theta[c] = res.x\n",
    "\n",
    "    return all_theta"
   ]
  },
  {
   "cell_type": "markdown",
   "metadata": {
    "id": "aQLqvbc_SxgO"
   },
   "source": [
    "## Prediccion One-vs-all"
   ]
  },
  {
   "cell_type": "code",
   "execution_count": null,
   "metadata": {
    "id": "PjFoFe1bSxgO"
   },
   "outputs": [],
   "source": [
    "def predictOneVsAll(all_theta, X):\n",
    "    m = X.shape[0];\n",
    "    num_labels = all_theta.shape[0]\n",
    "\n",
    "    p = np.zeros(m)\n",
    "\n",
    "    # Add ones to the X data matrix\n",
    "    X = np.concatenate([np.ones((m, 1)), X], axis=1)\n",
    "    p = np.argmax(sigmoid(X.dot(all_theta.T)), axis = 1)\n",
    "\n",
    "    return p"
   ]
  },
  {
   "cell_type": "markdown",
   "metadata": {
    "id": "zo3aawvsSxgO"
   },
   "source": [
    "Una vez que haya terminado, se llama a la función `predictOneVsAll` usando el valor aprendido de $\\theta$. Debería apreciarse que la precisión del conjunto de entrenamiento es de aproximadamente 95,1% (es decir, clasifica correctamente el 95,1% de los ejemplos del conjunto de entrenamiento)."
   ]
  },
  {
   "cell_type": "markdown",
   "metadata": {
    "id": "qxesnGQIFkDt"
   },
   "source": [
    "##Grafica de costos durante el entrenamiento"
   ]
  },
  {
   "cell_type": "code",
   "execution_count": null,
   "metadata": {
    "id": "KuNR2UYwFqNB"
   },
   "outputs": [],
   "source": [
    "def plot_cost(all_theta, X, y, lambda_):\n",
    "    m = X.shape[0]\n",
    "    X = np.concatenate([np.ones((m, 1)), X], axis=1)\n",
    "    costs = []\n",
    "\n",
    "    for i in range(1, 1500):  # Se itera para simular el costo por iteraciones\n",
    "        J, grad = lrCostFunction(all_theta[0], X, (y == 0).astype(int), lambda_)\n",
    "        costs.append(J)\n",
    "\n",
    "    plt.plot(range(1, 1500), costs)\n",
    "    plt.xlabel('Iteraciones')\n",
    "    plt.ylabel('Costo')\n",
    "    plt.title('Función de Costo durante el entrenamiento')\n",
    "    plt.show()"
   ]
  },
  {
   "cell_type": "markdown",
   "metadata": {
    "id": "JXyLjflgGgjl"
   },
   "source": [
    "##Parámetros iniciales"
   ]
  },
  {
   "cell_type": "code",
   "execution_count": null,
   "metadata": {
    "id": "N7PnRWxIGjD4"
   },
   "outputs": [],
   "source": [
    "lambda_ = 0.1\n",
    "num_labels = 7    # Dependiendo el numero de clases del dataset"
   ]
  },
  {
   "cell_type": "markdown",
   "metadata": {
    "id": "4yBRICVxG5sw"
   },
   "source": [
    "## Entrenar el Modelo"
   ]
  },
  {
   "cell_type": "code",
   "execution_count": null,
   "metadata": {
    "colab": {
     "base_uri": "https://localhost:8080/"
    },
    "id": "-sP5wlGbHD0V",
    "outputId": "a10a48c4-772c-42a7-85d1-a59525de49d8"
   },
   "outputs": [
    {
     "name": "stderr",
     "output_type": "stream",
     "text": [
      "<ipython-input-71-dea8621dc514>:10: OptimizeWarning: Unknown solver options: maxiter\n",
      "  res = optimize.minimize(lrCostFunction,\n",
      "<ipython-input-70-cc496eb8c808>:16: RuntimeWarning: divide by zero encountered in log\n",
      "  J = (1 / m) * np.sum(-y.dot(np.log(h)) - (1 - y).dot(np.log(1 - h))) + (lambda_ / (2 * m)) * np.sum(np.square(temp))  # h= y predicha\n"
     ]
    }
   ],
   "source": [
    "all_theta = oneVsAll(X_train_norm, y_train, num_labels, lambda_)"
   ]
  },
  {
   "cell_type": "markdown",
   "metadata": {
    "id": "7IZ2lnKwIqo5"
   },
   "source": [
    "## Realizar predicciones en el conjunto de prueba"
   ]
  },
  {
   "cell_type": "code",
   "execution_count": null,
   "metadata": {
    "colab": {
     "base_uri": "https://localhost:8080/"
    },
    "id": "JnUhy7xlIyRi",
    "outputId": "1e382c88-e63d-4506-afe1-8221ce9ea937"
   },
   "outputs": [
    {
     "name": "stdout",
     "output_type": "stream",
     "text": [
      "Precisión del conjunto de entrenamiento: 71.51%\n",
      "Precisión del conjunto de prueba: 71.54%\n"
     ]
    }
   ],
   "source": [
    "pred_train = predictOneVsAll(all_theta, X_train_norm)\n",
    "train_exactitud = np.mean(pred_train == y_train) * 100\n",
    "print(f'Precisión del conjunto de entrenamiento: {train_exactitud:.2f}%')\n",
    "\n",
    "pred_test = predictOneVsAll(all_theta, X_test_norm)\n",
    "test_exactitud = np.mean(pred_test == y_test) * 100\n",
    "print(f'Precisión del conjunto de prueba: {test_exactitud:.2f}%')"
   ]
  }
 ],
 "metadata": {
  "colab": {
   "provenance": []
  },
  "kernelspec": {
   "display_name": "Python 3",
   "language": "python",
   "name": "python3"
  },
  "language_info": {
   "codemirror_mode": {
    "name": "ipython",
    "version": 3
   },
   "file_extension": ".py",
   "mimetype": "text/x-python",
   "name": "python",
   "nbconvert_exporter": "python",
   "pygments_lexer": "ipython3",
   "version": "3.8.5"
  }
 },
 "nbformat": 4,
 "nbformat_minor": 0
}
